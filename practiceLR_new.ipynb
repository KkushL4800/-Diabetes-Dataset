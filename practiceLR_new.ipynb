{
 "cells": [
  {
   "cell_type": "code",
   "execution_count": 2,
   "metadata": {
    "collapsed": true
   },
   "outputs": [],
   "source": [
    "import numpy as np\n",
    "data=np.loadtxt(\"training_diabetes.csv\",delimiter=\",\")"
   ]
  },
  {
   "cell_type": "code",
   "execution_count": 6,
   "metadata": {},
   "outputs": [
    {
     "name": "stdout",
     "output_type": "stream",
     "text": [
      "(331, 10)\n",
      "(331,)\n"
     ]
    }
   ],
   "source": [
    "x_train=data[:,0:10]\n",
    "y_train=data[:,10]\n",
    "print(x_train.shape)\n",
    "print(y_train.shape)"
   ]
  },
  {
   "cell_type": "code",
   "execution_count": 8,
   "metadata": {},
   "outputs": [
    {
     "name": "stdout",
     "output_type": "stream",
     "text": [
      "(111, 10)\n"
     ]
    }
   ],
   "source": [
    "test=np.loadtxt(\"test_diabetes.csv\",delimiter=\",\")\n",
    "x_test=test[:,0:10]\n",
    "print(x_test.shape)"
   ]
  },
  {
   "cell_type": "code",
   "execution_count": 22,
   "metadata": {},
   "outputs": [
    {
     "name": "stdout",
     "output_type": "stream",
     "text": [
      "[ 105.52975  105.80392  178.60857   79.38288   52.95869   98.87264\n",
      "  150.71755   34.86515  113.13536  161.50184  135.86156   94.71592\n",
      "  138.48094  141.37442  158.76863  171.65289  106.44836  103.9266\n",
      "   95.38694  167.40118  166.53426  101.53465  252.45036  147.02259\n",
      "  214.78907  161.27557  210.61315   71.78092  189.65032  206.61343\n",
      "  219.98643  168.80193  116.84846  178.744     77.03247   59.54633\n",
      "  111.56738  156.95187  154.59591  198.94457  115.53884  153.46699\n",
      "   84.9618   113.70337  142.14156  147.3104    82.78072   77.89237\n",
      "  128.99006  261.58712  213.31188  243.98791  167.68132  183.69712\n",
      "  166.85927  202.1144   220.39236  172.40288  176.60898  109.04657\n",
      "  276.3779    90.99942  289.37221  119.56253   75.45688  180.78599\n",
      "  146.62093  156.42382   41.07904  247.90645  207.99121   90.09641\n",
      "  222.2417   189.86378  182.26954  164.39881  190.27067  105.44868\n",
      "  199.86136  245.79639  123.20281  119.41032  145.8662   206.19247\n",
      "  150.86282  142.23222  154.56875  115.29233  134.0781   118.42225\n",
      "  203.57676  170.66484  127.4098    57.13508  231.92227  185.20714\n",
      "  187.37495   83.55921  185.42586  217.34036  108.86715   80.98715\n",
      "  127.05524  242.00739  155.97234  125.67575  246.41236  234.96393\n",
      "  191.51298  168.33254  163.02965]\n"
     ]
    },
    {
     "data": {
      "text/plain": [
       "(111,)"
      ]
     },
     "execution_count": 22,
     "metadata": {},
     "output_type": "execute_result"
    }
   ],
   "source": [
    "from sklearn.linear_model import LinearRegression\n",
    "algo=LinearRegression()\n",
    "algo.fit(x_train,y_train)\n",
    "y_pred=algo.predict(x_test)\n",
    "np.set_printoptions(precision=5)\n",
    "print(y_pred)\n",
    "y_pred.shape"
   ]
  },
  {
   "cell_type": "code",
   "execution_count": 13,
   "metadata": {
    "collapsed": true
   },
   "outputs": [],
   "source": [
    "np.savetxt('test.csv',y_pred)"
   ]
  }
 ],
 "metadata": {
  "kernelspec": {
   "display_name": "Python 3",
   "language": "python",
   "name": "python3"
  },
  "language_info": {
   "codemirror_mode": {
    "name": "ipython",
    "version": 3
   },
   "file_extension": ".py",
   "mimetype": "text/x-python",
   "name": "python",
   "nbconvert_exporter": "python",
   "pygments_lexer": "ipython3",
   "version": "3.6.3"
  }
 },
 "nbformat": 4,
 "nbformat_minor": 2
}
